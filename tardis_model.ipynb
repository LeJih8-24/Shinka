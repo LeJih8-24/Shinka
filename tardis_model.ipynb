{
 "cells": [
  {
   "cell_type": "markdown",
   "id": "2ed26bb9",
   "metadata": {},
   "source": [
    "Imports:\n",
    "- sklearn functions for prediction model\n",
    "- numpy for array management\n",
    "- pandas for dataframe management (optional)\n",
    "- matplotlib for data visualization\n",
    "- get_data_program from tardis_eda to get tabs and dictionaries"
   ]
  },
  {
   "cell_type": "code",
   "execution_count": null,
   "id": "ee8d9442",
   "metadata": {},
   "outputs": [],
   "source": [
    "# import pandas as pd\n",
    "# import matplotlib.pyplot as plt"
   ]
  },
  {
   "cell_type": "markdown",
   "id": "546a17db",
   "metadata": {},
   "source": [
    "Show predictions in a simple plot (temporary for better visualization)"
   ]
  },
  {
   "cell_type": "code",
   "execution_count": null,
   "id": "f634d7bd",
   "metadata": {},
   "outputs": [],
   "source": [
    "# def show_pred(X_test, y_test, y_pred):\n",
    "#     plt.scatter(X_test, y_test, color=\"blue\", label=\"Vraies valeurs\")\n",
    "#     plt.plot(X_test, y_pred, color=\"red\", label=\"Prédictions\")\n",
    "#     plt.xlabel(\"schTrains\")\n",
    "#     plt.ylabel(\"CanTrains\")\n",
    "#     plt.legend()\n",
    "#     plt.show()"
   ]
  },
  {
   "cell_type": "markdown",
   "id": "5927fcdc",
   "metadata": {},
   "source": [
    "Simple training model of prediction by num of scheduled trains and number of cancelled trains and train by KNeighborsClassifiers"
   ]
  },
  {
   "cell_type": "code",
   "execution_count": null,
   "id": "15522677",
   "metadata": {},
   "outputs": [],
   "source": [
    "# def training_model():\n",
    "#     data_dic, data_tab = get_data_program()\n",
    "#     useful_data_paris = {\n",
    "#         \"schTrains\": data_tab[\"PARIS EST\"][\"Number of scheduled trains\"],\n",
    "#         \"CanTrains\": data_tab[\"PARIS EST\"][\"Number of cancelled trains\"],\n",
    "#     }\n",
    "#     df = pd.DataFrame(useful_data_paris)\n",
    "#     x = df[[\"schTrains\"]]\n",
    "#     y = df[[\"CanTrains\"]]\n",
    "#     X_train, X_test, y_train, y_test = train_test_split(\n",
    "#         x, y, test_size=0.2, random_state=42\n",
    "#     )\n",
    "#     # Données lu et séparées\n",
    "#     model = KNeighborsClassifier()\n",
    "#     model.fit(X_train, y_train)\n",
    "#     # Model entrainé\n",
    "#     y_pred = model.predict(X_test)\n",
    "#     print(y_pred)\n",
    "#     # Prédiction effectuées\n",
    "#     #mse = mean_squared_error(y_test, y_pred)\n",
    "#     # \"Erreur quadratique moyenne: valeur mse\n",
    "#     #r2 = r2_score(y_test, y_pred)\n",
    "#     # Coefficient de détermination: valeur r2"
   ]
  },
  {
   "cell_type": "code",
   "execution_count": null,
   "id": "9d15da26",
   "metadata": {},
   "outputs": [],
   "source": [
    "def main():\n",
    "    # training_model()\n",
    "    return 0\n",
    "\n",
    "\n",
    "if __name__ == \"__main__\":\n",
    "    main()"
   ]
  }
 ],
 "metadata": {
  "language_info": {
   "name": "python"
  }
 },
 "nbformat": 4,
 "nbformat_minor": 5
}
