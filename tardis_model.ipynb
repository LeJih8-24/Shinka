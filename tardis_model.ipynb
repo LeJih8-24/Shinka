{
 "cells": [
  {
   "cell_type": "markdown",
   "id": "dd049af9",
   "metadata": {},
   "source": [
    "Tardis model used for data prediction, give a prediction of the data of the next month"
   ]
  },
  {
   "cell_type": "code",
   "execution_count": null,
   "id": "ba61b76c",
   "metadata": {},
   "outputs": [],
   "source": [
    "import pandas as pd\n",
    "from sklearn.linear_model import LinearRegression\n",
    "import matplotlib.pyplot as plt\n",
    "\n",
    "def predict_next_month(csv_path):\n",
    "    with open(csv_path, \"r\", encoding=\"utf-8\") as f:\n",
    "        lines = f.readlines()\n",
    "    header = lines[0].strip().split(\";\")\n",
    "    expected_cols = len(header)\n",
    "    data = [line.strip().split(\";\") for line in lines[1:] if len(line.strip().split(\";\")) == expected_cols]\n",
    "    df = pd.DataFrame(data, columns=header)\n",
    "\n",
    "    cols_to_use = [\n",
    "        \"Date\",\n",
    "        \"Average journey time\",\n",
    "        \"Number of scheduled trains\",\n",
    "        \"Number of trains delayed at departure\",\n",
    "        \"Average delay of late trains at departure\"\n",
    "    ]\n",
    "\n",
    "    for col in cols_to_use[1:]:\n",
    "        df[col] = pd.to_numeric(df[col], errors=\"coerce\")\n",
    "\n",
    "    df = df.dropna(subset=cols_to_use)\n",
    "    df[\"Month\"] = df[\"Date\"].str.strip()\n",
    "    months = sorted(df[\"Month\"].unique())\n",
    "    last_month = months[-1]\n",
    "    train_data = df[df[\"Month\"] != last_month]\n",
    "    test_data = df[df[\"Month\"] == last_month]\n",
    "\n",
    "    X_train = train_data[[\n",
    "        \"Average journey time\",\n",
    "        \"Number of scheduled trains\",\n",
    "        \"Number of trains delayed at departure\"\n",
    "    ]]\n",
    "    y_train = train_data[\"Average delay of late trains at departure\"]\n",
    "\n",
    "    X_test = test_data[[\n",
    "        \"Average journey time\",\n",
    "        \"Number of scheduled trains\",\n",
    "        \"Number of trains delayed at departure\"\n",
    "    ]]\n",
    "    y_test = test_data[\"Average delay of late trains at departure\"]\n",
    "\n",
    "    model = LinearRegression()\n",
    "    model.fit(X_train, y_train)\n",
    "    y_pred = model.predict(X_test)\n",
    "\n",
    "    moyenne_predite = round(y_pred.mean(), 2)\n",
    "    moyenne_reelle = round(y_test.mean(), 2)\n",
    "\n",
    "    print(f\"Mois testé : {last_month}\")\n",
    "    print(f\"Moyenne prédite : {moyenne_predite} minutes\")\n",
    "    print(f\"Moyenne réelle   : {moyenne_reelle} minutes\")"
   ]
  }
 ],
 "metadata": {
  "language_info": {
   "name": "python"
  }
 },
 "nbformat": 4,
 "nbformat_minor": 5
}
